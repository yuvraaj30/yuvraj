{
 "cells": [
  {
   "cell_type": "code",
   "execution_count": 1,
   "metadata": {},
   "outputs": [
    {
     "name": "stdout",
     "output_type": "stream",
     "text": [
      "Weights after training\n",
      "[[-0.47730998]\n",
      " [-0.57716869]\n",
      " [11.61470366]]\n",
      "Output for test input [1,0,0] =  \n",
      "[0.38288754]\n"
     ]
    }
   ],
   "source": [
    "import numpy as np\n",
    "\n",
    "#define sigmoid functon and its derivative\n",
    "def sigmoid(x):\n",
    "    return 1/(1+np.exp(-x))\n",
    "\n",
    "def sigmoid_derivative(x):\n",
    "    return x*(1-x)\n",
    "\n",
    "#Input data (4 samples with 3 fearures each)\n",
    "X = np.array([[4,3,1],\n",
    "            [0,1,1],\n",
    "            [1,7,1],\n",
    "            [1,4,0]])\n",
    "\n",
    "#output data(4 samples with 1 output each)\n",
    "y = np.array([[2],\n",
    "            [1],\n",
    "            [3],\n",
    "            [0]])\n",
    "\n",
    "#seed\n",
    "np.random.seed(123)\n",
    "\n",
    "#initialize weights randomly \n",
    "weights = 2*np.random.random((3,1))-1\n",
    "\n",
    "#learning rate\n",
    "learning_rate = 0.1\n",
    "iterations = 10000\n",
    "\n",
    "#training the ANN\n",
    "for iteration in range(iterations):\n",
    "    #forward propagation\n",
    "    layer0 = X\n",
    "    layer1 = sigmoid(np.dot(layer0, weights))\n",
    "\n",
    "    #error\n",
    "    layer1_error = y - layer1\n",
    "\n",
    "    #backpropagation\n",
    "    layer1_delta = layer1_error * sigmoid_derivative(layer1)\n",
    "\n",
    "    #update weights\n",
    "    weights += np.dot(layer0.T, layer1_delta)*learning_rate\n",
    "\n",
    "print(\"Weights after training\")\n",
    "print(weights)\n",
    "\n",
    "# Test the network with a new input\n",
    "test_input = np.array([1,0,0])\n",
    "output = sigmoid(np.dot(test_input,weights))\n",
    "print(\"Output for test input [1,0,0] =  \")\n",
    "print(output)"
   ]
  },
  {
   "cell_type": "markdown",
   "metadata": {},
   "source": []
  }
 ],
 "metadata": {
  "kernelspec": {
   "display_name": "Python 3",
   "language": "python",
   "name": "python3"
  },
  "language_info": {
   "codemirror_mode": {
    "name": "ipython",
    "version": 3
   },
   "file_extension": ".py",
   "mimetype": "text/x-python",
   "name": "python",
   "nbconvert_exporter": "python",
   "pygments_lexer": "ipython3",
   "version": "3.12.7"
  }
 },
 "nbformat": 4,
 "nbformat_minor": 2
}
